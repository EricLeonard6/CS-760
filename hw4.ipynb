{
 "cells": [
  {
   "cell_type": "code",
   "execution_count": 289,
   "id": "64e1fd67",
   "metadata": {},
   "outputs": [],
   "source": [
    "import numpy as np\n",
    "import pandas as pd\n",
    "from zipfile import ZipFile\n",
    "import tarfile\n",
    "import torchvision.datasets as datasets\n",
    "import torch\n",
    "import torch.nn as nn\n",
    "import torch.nn.functional as F\n",
    "import torch.optim as optim\n",
    "from torchvision import datasets, transforms\n",
    "import matplotlib.pyplot as plt"
   ]
  },
  {
   "cell_type": "code",
   "execution_count": 14,
   "id": "9a22197c",
   "metadata": {},
   "outputs": [
    {
     "name": "stdout",
     "output_type": "stream",
     "text": [
      "languageID\n",
      "languageID/e0.txt\n",
      "languageID/e10.txt\n",
      "languageID/e11.txt\n",
      "languageID/e12.txt\n",
      "languageID/e13.txt\n",
      "languageID/e14.txt\n",
      "languageID/e15.txt\n",
      "languageID/e16.txt\n",
      "languageID/e17.txt\n",
      "languageID/e18.txt\n",
      "languageID/e19.txt\n",
      "languageID/e1.txt\n",
      "languageID/e2.txt\n",
      "languageID/e3.txt\n",
      "languageID/e4.txt\n",
      "languageID/e5.txt\n",
      "languageID/e6.txt\n",
      "languageID/e7.txt\n",
      "languageID/e8.txt\n",
      "languageID/e9.txt\n",
      "languageID/j0.txt\n",
      "languageID/j10.txt\n",
      "languageID/j11.txt\n",
      "languageID/j12.txt\n",
      "languageID/j13.txt\n",
      "languageID/j14.txt\n",
      "languageID/j15.txt\n",
      "languageID/j16.txt\n",
      "languageID/j17.txt\n",
      "languageID/j18.txt\n",
      "languageID/j19.txt\n",
      "languageID/j1.txt\n",
      "languageID/j2.txt\n",
      "languageID/j3.txt\n",
      "languageID/j4.txt\n",
      "languageID/j5.txt\n",
      "languageID/j6.txt\n",
      "languageID/j7.txt\n",
      "languageID/j8.txt\n",
      "languageID/j9.txt\n",
      "languageID/s0.txt\n",
      "languageID/s1.txt\n",
      "languageID/s10.txt\n",
      "languageID/s11.txt\n",
      "languageID/s12.txt\n",
      "languageID/s13.txt\n",
      "languageID/s14.txt\n",
      "languageID/s15.txt\n",
      "languageID/s16.txt\n",
      "languageID/s17.txt\n",
      "languageID/s18.txt\n",
      "languageID/s19.txt\n",
      "languageID/s2.txt\n",
      "languageID/s3.txt\n",
      "languageID/s4.txt\n",
      "languageID/s5.txt\n",
      "languageID/s6.txt\n",
      "languageID/s7.txt\n",
      "languageID/s8.txt\n",
      "languageID/s9.txt\n"
     ]
    }
   ],
   "source": [
    "file_name = \"languageID.tgz\"\n",
    "# extract tarfile\n",
    "with tarfile.open(file_name) as f:\n",
    "    f.extractall('./data')\n",
    "    print(*f.getnames(), sep=\"\\n\")"
   ]
  },
  {
   "cell_type": "code",
   "execution_count": 150,
   "id": "b8d116ae",
   "metadata": {},
   "outputs": [],
   "source": [
    "file_names = [f\"e{i}.txt\" for i in range(20)] + [f\"s{i}.txt\" for i in range(20)] + [f\"j{i}.txt\" for i in range(20)]\n",
    "data = dict()\n",
    "for file in file_names:\n",
    "    with open(\"data/languageID/\" + file) as f:\n",
    "        lines = f.read()\n",
    "        counts = pd.Series(list(lines)).value_counts()\n",
    "        for l in list(\"abcdefghijklmnopqrstuvwxyz \"):\n",
    "            if l not in counts:\n",
    "                counts[l] = 0\n",
    "        data[file] = counts#.append([counts,file[0]])"
   ]
  },
  {
   "cell_type": "code",
   "execution_count": 154,
   "id": "4d9df63c",
   "metadata": {},
   "outputs": [],
   "source": [
    "char_set = list(\"abcdefghijklmnopqrstuvwxyz \")\n",
    "trainX = np.array([data[f\"e{i}.txt\"][char_set].to_numpy() for i in range(10)] + \n",
    "                  [data[f\"s{i}.txt\"][char_set].to_numpy() for i in range(10)] + \n",
    "                  [data[f\"j{i}.txt\"][char_set].to_numpy() for i in range(10)])\n",
    "trainy = ['e' for _ in range(10)] + ['s' for _ in range(10)] + ['j' for _ in range(10)]"
   ]
  },
  {
   "cell_type": "code",
   "execution_count": 195,
   "id": "dbcfcd73",
   "metadata": {},
   "outputs": [],
   "source": [
    "def estimate_θ(X,y,l,α=0.5):\n",
    "    \n",
    "    character_counts = np.zeros(len(X[0]))\n",
    "    for i,lang in enumerate(y):\n",
    "        if lang == l:\n",
    "            character_counts += X[i]\n",
    "    \n",
    "    \n",
    "    return (character_counts + α) / (sum(character_counts) + (len(X) * α))"
   ]
  },
  {
   "cell_type": "code",
   "execution_count": 196,
   "id": "16b0b825",
   "metadata": {},
   "outputs": [
    {
     "name": "stdout",
     "output_type": "stream",
     "text": [
      "θe:\n",
      " [0.06016255 0.01113387 0.02150786 0.0219704  0.10535879 0.01893088\n",
      " 0.0174772  0.04721158 0.05540505 0.00142064 0.00373332 0.02897449\n",
      " 0.02051672 0.05791595 0.06445751 0.01675036 0.00056165 0.05381922\n",
      " 0.0661755  0.08011762 0.02666182 0.00928373 0.01549491 0.00115634\n",
      " 0.013843   0.00062773 0.17923219] \n",
      "\n",
      "θs:\n",
      " [1.04550780e-01 8.23210212e-03 3.75223531e-02 3.97422458e-02\n",
      " 1.13800333e-01 8.60208423e-03 7.18381945e-03 4.53228094e-03\n",
      " 4.98550903e-02 6.62884627e-03 2.77486588e-04 5.29382747e-02\n",
      " 2.58062527e-02 5.41715484e-02 7.24856632e-02 2.42646605e-02\n",
      " 7.67712894e-03 5.92896343e-02 6.57643214e-02 3.56107788e-02\n",
      " 3.36992045e-02 5.88888204e-03 9.24955294e-05 2.49737929e-03\n",
      " 7.86212000e-03 2.68237035e-03 1.68249368e-01] \n",
      "\n",
      "θj:\n",
      " [1.31751799e-01 1.08657676e-02 5.48529103e-03 1.72245126e-02\n",
      " 6.01984487e-02 3.87813570e-03 1.40102019e-02 3.17587869e-02\n",
      " 9.70232688e-02 2.34085668e-03 5.74033960e-02 1.43246454e-03\n",
      " 3.97945636e-02 5.67046328e-02 9.11536580e-02 8.73453986e-04\n",
      " 1.04814478e-04 4.27992453e-02 4.21703585e-02 5.69841381e-02\n",
      " 7.06100203e-02 2.44567116e-04 1.97400601e-02 3.49381595e-05\n",
      " 1.41499546e-02 7.72133324e-03 1.23436517e-01] \n",
      "\n"
     ]
    }
   ],
   "source": [
    "θe = estimate_θ(trainX, trainy,'e')\n",
    "θs = estimate_θ(trainX, trainy,'s')\n",
    "θj = estimate_θ(trainX, trainy,'j')\n",
    "\n",
    "print(\"θe:\\n\", θe, \"\\n\")\n",
    "print(\"θs:\\n\", θs, \"\\n\")\n",
    "print(\"θj:\\n\", θj, \"\\n\")"
   ]
  },
  {
   "cell_type": "code",
   "execution_count": 170,
   "id": "6d11c67e",
   "metadata": {},
   "outputs": [
    {
     "name": "stdout",
     "output_type": "stream",
     "text": [
      "e10.txt bag of words vector:\n",
      " [164  32  53  57 311  55  51 140 140   3   6  85  64 139 182  53   3 141\n",
      " 186 225  65  31  47   4  38   2 498]\n"
     ]
    }
   ],
   "source": [
    "e10_test = data['e10.txt'][char_set].to_numpy()\n",
    "print(\"e10.txt bag of words vector:\\n\", e10_test)"
   ]
  },
  {
   "cell_type": "code",
   "execution_count": 235,
   "id": "40e6f897",
   "metadata": {},
   "outputs": [
    {
     "name": "stdout",
     "output_type": "stream",
     "text": [
      "p(x|y=e):  -7842.140503641569\n",
      "p(x|y=s):  -8467.538730975977\n",
      "p(x|y=j):  -8771.723954496762\n"
     ]
    }
   ],
   "source": [
    "likelihoode = sum(np.log(θe) * e10_test)\n",
    "likelihoods = sum(np.log(θs) * e10_test)\n",
    "likelihoodj = sum(np.log(θj) * e10_test)\n",
    "\n",
    "print(\"p(x|y=e): \", likelihoode)\n",
    "print(\"p(x|y=s): \", likelihoods)\n",
    "print(\"p(x|y=j): \", likelihoodj)"
   ]
  },
  {
   "cell_type": "code",
   "execution_count": 284,
   "id": "2baa21b3",
   "metadata": {},
   "outputs": [
    {
     "name": "stdout",
     "output_type": "stream",
     "text": [
      "actual: e predicted: e\n",
      "actual: e predicted: e\n",
      "actual: e predicted: e\n",
      "actual: e predicted: e\n",
      "actual: e predicted: e\n",
      "actual: e predicted: e\n",
      "actual: e predicted: e\n",
      "actual: e predicted: e\n",
      "actual: e predicted: e\n",
      "actual: e predicted: e\n",
      "actual: s predicted: s\n",
      "actual: s predicted: s\n",
      "actual: s predicted: s\n",
      "actual: s predicted: s\n",
      "actual: s predicted: s\n",
      "actual: s predicted: s\n",
      "actual: s predicted: s\n",
      "actual: s predicted: s\n",
      "actual: s predicted: s\n",
      "actual: s predicted: s\n",
      "actual: j predicted: j\n",
      "actual: j predicted: j\n",
      "actual: j predicted: j\n",
      "actual: j predicted: j\n",
      "actual: j predicted: j\n",
      "actual: j predicted: j\n",
      "actual: j predicted: j\n",
      "actual: j predicted: j\n",
      "actual: j predicted: j\n",
      "actual: j predicted: j\n"
     ]
    }
   ],
   "source": [
    "test_files = [f\"e{i}.txt\" for i in range(10,20)] + \\\n",
    "             [f\"s{i}.txt\" for i in range(10,20)] + \\\n",
    "             [f\"j{i}.txt\" for i in range(10,20)]\n",
    "\n",
    "pred_key = {0 : \"e\", 1 : \"s\", 2 : \"j\"}\n",
    "for file in test_files:\n",
    "    xtest = data[file][char_set].to_numpy()\n",
    "    likelihoods = [sum(np.log(θe) * xtest), sum(np.log(θs) * xtest), sum(np.log(θj) * xtest)]\n",
    "    actual = file[0]\n",
    "    pred = pred_key[np.argmax(likelihoods)]\n",
    "    print(f\"actual: {actual} predicted: {pred}\")"
   ]
  },
  {
   "cell_type": "code",
   "execution_count": 307,
   "id": "787bcfa2",
   "metadata": {},
   "outputs": [
    {
     "name": "stdout",
     "output_type": "stream",
     "text": [
      "j16.txt\n",
      "p(x|y=e):  -4444.224164501575\n",
      "p(x|y=s):  -4863.46921351848\n",
      "p(x|y=j):  -4006.392191792224\n"
     ]
    }
   ],
   "source": [
    "random_test_sample = test_files[np.random.randint(len(test_files))]\n",
    "sample_str = \"\"\n",
    "with open(\"data/languageID/\" + random_test_sample) as f:\n",
    "    lines = f.read()\n",
    "    sample_str+= lines\n",
    "\n",
    "random_mix = np.random.randint(len(sample_str), size=len(sample_str))\n",
    "\n",
    "bag_words_random = pd.Series(np.array(list(sample_str))[random_mix]).value_counts()\n",
    "for l in list(\"abcdefghijklmnopqrstuvwxyz \"):\n",
    "    if l not in bag_words_random:\n",
    "        bag_words_random[l] = 0\n",
    "\n",
    "bag_words_random = bag_words_random[char_set]\n",
    "\n",
    "likelihoode = sum(np.log(θe) * bag_words_random)\n",
    "likelihoods = sum(np.log(θs) * bag_words_random)\n",
    "likelihoodj = sum(np.log(θj) * bag_words_random)\n",
    "\n",
    "print(random_test_sample)\n",
    "print(\"p(x|y=e): \", likelihoode)\n",
    "print(\"p(x|y=s): \", likelihoods)\n",
    "print(\"p(x|y=j): \", likelihoodj)"
   ]
  },
  {
   "cell_type": "code",
   "execution_count": 251,
   "id": "1fdd16c9",
   "metadata": {},
   "outputs": [],
   "source": [
    "def sigmoid(z):\n",
    "    return 1 / (1 + np.exp(-z))\n",
    "\n",
    "def sigmoid_prime(z):\n",
    "    return sigmoid(z)*(1 - sigmoid(z))\n",
    "\n",
    "def softmax(z):\n",
    "    return np.exp(z) / sum(np.exp(z))\n",
    "\n",
    "def softmax_prime(z):\n",
    "    return softmax(z) - (np.exp(2*z) / sum(np.exp(z))**2)\n",
    "\n",
    "def train(W0, X, y, epochs=10, a=0.2):\n",
    "    W1,W2,W3 = W0[0], W0[1], W0[2]\n",
    "    z1 = W1@X\n",
    "    a1 = sigmoid(z1)\n",
    "    z2 = W2@a1\n",
    "    a2 = sigmoid(z2)\n",
    "    z3 = W3 @ a2\n",
    "    yhat = g(z3)\n",
    "    \n",
    "    print(z1.shape, a1.shape, z2.shape, a2.shape, z3.shape, yhat.shape)\n",
    "#     for i in range(epochs):\n",
    "#         W3 -= a*(-sum(y/yhat))*softmax(z3)*"
   ]
  },
  {
   "cell_type": "code",
   "execution_count": 259,
   "id": "bbeaffa2",
   "metadata": {},
   "outputs": [
    {
     "data": {
      "text/plain": [
       "(28, 28)"
      ]
     },
     "execution_count": 259,
     "metadata": {},
     "output_type": "execute_result"
    }
   ],
   "source": [
    "mnist = datasets.MNIST(root='./data', download=True, transform=None).train_data.numpy()\n",
    "mnist[0].shape"
   ]
  },
  {
   "cell_type": "code",
   "execution_count": 309,
   "id": "d8717dc2",
   "metadata": {},
   "outputs": [],
   "source": [
    "def get_data_loader(training = True):\n",
    "    custom_transform=transforms.Compose([\n",
    "        transforms.ToTensor(),\n",
    "        transforms.Normalize((0.1307,), (0.3081,))\n",
    "        ])\n",
    "    train_set=datasets.MNIST('./data',train=True,\n",
    "                download=True,transform=custom_transform)\n",
    "    test_set=datasets.MNIST('./data', train=False,\n",
    "                transform=custom_transform)\n",
    "    if training:\n",
    "        loader = torch.utils.data.DataLoader(train_set, batch_size = 64)\n",
    "    else:\n",
    "        loader = torch.utils.data.DataLoader(test_set, batch_size = 64)\n",
    "    \n",
    "    return loader\n",
    "\n",
    "def build_model(d1,d2,):\n",
    "    model = nn.Sequential(\n",
    "        nn.Flatten(),\n",
    "        nn.Linear(28*28, d1),\n",
    "        nn.Sigmoid(),\n",
    "        nn.Linear(d1, d2),\n",
    "        nn.Sigmoid(),\n",
    "        nn.Linear(d2, 10),\n",
    "        nn.Softmax()\n",
    "    )\n",
    "    return model\n",
    "\n",
    "def train_model(model, train_loader, T, a=0.01):\n",
    "    model.train()\n",
    "    opt = optim.SGD(model.parameters(), lr=a)\n",
    "    batches = []\n",
    "    accuracy = []\n",
    "    losses = []\n",
    "    for epoch in range(T):\n",
    "        running_loss = 0.0\n",
    "        for i, data in enumerate(train_loader):\n",
    "            inputs, labels = data\n",
    "            opt.zero_grad()\n",
    "            outputs = model(inputs)\n",
    "            loss = nn.CrossEntropyLoss()(outputs, labels)\n",
    "            loss.backward()\n",
    "            opt.step()\n",
    "            running_loss += loss.item()\n",
    "        \n",
    "        correct = 0\n",
    "        total = 0\n",
    "        with torch.no_grad():\n",
    "            for data in train_loader:\n",
    "                inputs, labels = data\n",
    "                outputs = model(inputs)\n",
    "                _, predicted = torch.max(outputs.data, 1)\n",
    "                total += labels.size(0)\n",
    "                correct += (predicted == labels).sum().item()\n",
    "\n",
    "        batch_size = inputs.shape[0]\n",
    "        ds_length = len(train_loader.dataset)\n",
    "        loss = batch_size * running_loss / ds_length\n",
    "        print(f\"Train Epoch: {epoch} Accuracy {correct}/{total}({correct*100/total:.2f}%) Loss: {loss:.3f}\")\n",
    "        batches.append(batch_size)\n",
    "        accuracy.append(correct/total)\n",
    "        losses.append(loss)\n",
    "    return batches, accuracy, losses\n",
    "    \n",
    "\n",
    "\n",
    "def evaluate_model(model, test_loader, show_loss = True):\n",
    "    model.eval()\n",
    "    running_loss = 0.0\n",
    "    for i, data in enumerate(test_loader):\n",
    "        inputs, labels = data\n",
    "        outputs = model(inputs)\n",
    "        loss = nn.CrossEntropyLoss()(outputs, labels)\n",
    "        loss.backward()\n",
    "        running_loss += loss.item()\n",
    "        \n",
    "    correct = 0\n",
    "    total = 0\n",
    "    with torch.no_grad():\n",
    "        for data in test_loader:\n",
    "            inputs, labels = data\n",
    "            outputs = model(inputs)\n",
    "            _, predicted = torch.max(outputs.data, 1)\n",
    "            total += labels.size(0)\n",
    "            correct += (predicted == labels).sum().item()\n",
    "\n",
    "    ds_length = len(test_loader.dataset)\n",
    "    loss = running_loss / ds_length\n",
    "    if show_loss:\n",
    "        print(f\"Average loss: {loss:.4f}\")\n",
    "    print(f\"Accuracy: {correct}/{total}  {correct*100/total:.2f}%\")\n",
    "    \n",
    "\n",
    "\n",
    "def predict_label(model, test_images, index):\n",
    "    class_names = ['0', '1', '2', '3', '4', '5', '6', '7' '8', '9']\n",
    "    logits = model(test_images[index])\n",
    "    prob = F.softmax(logits, dim=1)\n",
    "    idxs = np.argsort(list(prob.detach().numpy()))[0][-3:]\n",
    "    for i in np.flip(idxs):\n",
    "        print(f\"{class_names[i]}: {prob[0][i]*100:.2f}%\")"
   ]
  },
  {
   "cell_type": "code",
   "execution_count": 283,
   "id": "acbb496c",
   "metadata": {},
   "outputs": [
    {
     "name": "stdout",
     "output_type": "stream",
     "text": [
      "Train Epoch: 0 Accuracy 29318/60000(48.86%) Loss: 1.134\n",
      "Train Epoch: 1 Accuracy 33252/60000(55.42%) Loss: 1.034\n",
      "Train Epoch: 2 Accuracy 40350/60000(67.25%) Loss: 0.741\n",
      "Train Epoch: 3 Accuracy 45734/60000(76.22%) Loss: 0.508\n",
      "Train Epoch: 4 Accuracy 48888/60000(81.48%) Loss: 0.393\n",
      "Train Epoch: 5 Accuracy 50709/60000(84.52%) Loss: 0.321\n",
      "Train Epoch: 6 Accuracy 51867/60000(86.44%) Loss: 0.273\n",
      "Train Epoch: 7 Accuracy 52628/60000(87.71%) Loss: 0.241\n",
      "Train Epoch: 8 Accuracy 53128/60000(88.55%) Loss: 0.220\n",
      "Train Epoch: 9 Accuracy 53464/60000(89.11%) Loss: 0.204\n",
      "Train Epoch: 10 Accuracy 53759/60000(89.60%) Loss: 0.192\n",
      "Train Epoch: 11 Accuracy 53976/60000(89.96%) Loss: 0.183\n",
      "Train Epoch: 12 Accuracy 54157/60000(90.26%) Loss: 0.176\n",
      "Train Epoch: 13 Accuracy 54340/60000(90.57%) Loss: 0.169\n",
      "Train Epoch: 14 Accuracy 54493/60000(90.82%) Loss: 0.164\n",
      "Train Epoch: 15 Accuracy 54636/60000(91.06%) Loss: 0.159\n",
      "Train Epoch: 16 Accuracy 54774/60000(91.29%) Loss: 0.155\n",
      "Train Epoch: 17 Accuracy 54883/60000(91.47%) Loss: 0.151\n",
      "Train Epoch: 18 Accuracy 55012/60000(91.69%) Loss: 0.147\n",
      "Train Epoch: 19 Accuracy 55099/60000(91.83%) Loss: 0.144\n",
      "Train Epoch: 20 Accuracy 55206/60000(92.01%) Loss: 0.140\n",
      "Train Epoch: 21 Accuracy 55303/60000(92.17%) Loss: 0.137\n",
      "Train Epoch: 22 Accuracy 55399/60000(92.33%) Loss: 0.134\n",
      "Train Epoch: 23 Accuracy 55496/60000(92.49%) Loss: 0.132\n",
      "Train Epoch: 24 Accuracy 55598/60000(92.66%) Loss: 0.129\n",
      "Train Epoch: 25 Accuracy 55690/60000(92.82%) Loss: 0.126\n",
      "Train Epoch: 26 Accuracy 55779/60000(92.97%) Loss: 0.124\n",
      "Train Epoch: 27 Accuracy 55876/60000(93.13%) Loss: 0.121\n",
      "Train Epoch: 28 Accuracy 55965/60000(93.28%) Loss: 0.119\n",
      "Train Epoch: 29 Accuracy 56049/60000(93.42%) Loss: 0.116\n",
      "Train Epoch: 30 Accuracy 56123/60000(93.54%) Loss: 0.114\n",
      "Train Epoch: 31 Accuracy 56197/60000(93.66%) Loss: 0.112\n",
      "Train Epoch: 32 Accuracy 56292/60000(93.82%) Loss: 0.110\n",
      "Train Epoch: 33 Accuracy 56375/60000(93.96%) Loss: 0.107\n",
      "Train Epoch: 34 Accuracy 56446/60000(94.08%) Loss: 0.105\n",
      "Train Epoch: 35 Accuracy 56515/60000(94.19%) Loss: 0.103\n",
      "Train Epoch: 36 Accuracy 56590/60000(94.32%) Loss: 0.101\n",
      "Train Epoch: 37 Accuracy 56653/60000(94.42%) Loss: 0.099\n",
      "Train Epoch: 38 Accuracy 56712/60000(94.52%) Loss: 0.098\n",
      "Train Epoch: 39 Accuracy 56789/60000(94.65%) Loss: 0.096\n",
      "Train Epoch: 40 Accuracy 56853/60000(94.75%) Loss: 0.094\n",
      "Train Epoch: 41 Accuracy 56924/60000(94.87%) Loss: 0.092\n",
      "Train Epoch: 42 Accuracy 56968/60000(94.95%) Loss: 0.091\n",
      "Train Epoch: 43 Accuracy 57024/60000(95.04%) Loss: 0.089\n",
      "Train Epoch: 44 Accuracy 57069/60000(95.11%) Loss: 0.087\n",
      "Train Epoch: 45 Accuracy 57123/60000(95.20%) Loss: 0.086\n",
      "Train Epoch: 46 Accuracy 57167/60000(95.28%) Loss: 0.084\n",
      "Train Epoch: 47 Accuracy 57217/60000(95.36%) Loss: 0.083\n",
      "Train Epoch: 48 Accuracy 57259/60000(95.43%) Loss: 0.081\n",
      "Train Epoch: 49 Accuracy 57316/60000(95.53%) Loss: 0.080\n"
     ]
    }
   ],
   "source": [
    "model = build_model(300,200)\n",
    "loader = get_data_loader()\n",
    "learning_stats = train_model(model, loader, 50)"
   ]
  },
  {
   "cell_type": "code",
   "execution_count": 278,
   "id": "4f59d520",
   "metadata": {},
   "outputs": [
    {
     "name": "stdout",
     "output_type": "stream",
     "text": [
      "Average loss: 0.0061\n",
      "Accuracy: 8901/10000  89.01%\n"
     ]
    }
   ],
   "source": [
    "loader = get_data_loader(training=False)\n",
    "evaluate_model(model, loader)"
   ]
  },
  {
   "cell_type": "code",
   "execution_count": 316,
   "id": "da699239",
   "metadata": {},
   "outputs": [
    {
     "data": {
      "image/png": "[encoded data removed]",
      "text/plain": [
       "<Figure size 720x576 with 1 Axes>"
      ]
     },
     "metadata": {
      "needs_background": "light"
     },
     "output_type": "display_data"
    }
   ],
   "source": [
    "plt.rcParams[\"font.size\"] = 15\n",
    "plt.figure(figsize=(10,8))\n",
    "plt.plot(np.cumsum(learning_stats[0]), learning_stats[2])\n",
    "plt.grid()\n",
    "plt.ylabel(\"loss\")\n",
    "plt.xlabel(\"batches\")\n",
    "plt.savefig(\"learning_curve1.png\")\n",
    "plt.tight_layout()\n",
    "None"
   ]
  },
  {
   "cell_type": "code",
   "execution_count": 318,
   "id": "9acd06cc",
   "metadata": {},
   "outputs": [
    {
     "name": "stdout",
     "output_type": "stream",
     "text": [
      "Flatten(start_dim=1, end_dim=-1)\n",
      "Linear(in_features=784, out_features=300, bias=True)\n",
      "Parameter containing:\n",
      "tensor([[0., 0., 0.,  ..., 0., 0., 0.],\n",
      "        [0., 0., 0.,  ..., 0., 0., 0.],\n",
      "        [0., 0., 0.,  ..., 0., 0., 0.],\n",
      "        ...,\n",
      "        [0., 0., 0.,  ..., 0., 0., 0.],\n",
      "        [0., 0., 0.,  ..., 0., 0., 0.],\n",
      "        [0., 0., 0.,  ..., 0., 0., 0.]], requires_grad=True)\n",
      "Sigmoid()\n",
      "Linear(in_features=300, out_features=200, bias=True)\n",
      "Parameter containing:\n",
      "tensor([[0., 0., 0.,  ..., 0., 0., 0.],\n",
      "        [0., 0., 0.,  ..., 0., 0., 0.],\n",
      "        [0., 0., 0.,  ..., 0., 0., 0.],\n",
      "        ...,\n",
      "        [0., 0., 0.,  ..., 0., 0., 0.],\n",
      "        [0., 0., 0.,  ..., 0., 0., 0.],\n",
      "        [0., 0., 0.,  ..., 0., 0., 0.]], requires_grad=True)\n",
      "Sigmoid()\n",
      "Linear(in_features=200, out_features=10, bias=True)\n",
      "Parameter containing:\n",
      "tensor([[0., 0., 0.,  ..., 0., 0., 0.],\n",
      "        [0., 0., 0.,  ..., 0., 0., 0.],\n",
      "        [0., 0., 0.,  ..., 0., 0., 0.],\n",
      "        ...,\n",
      "        [0., 0., 0.,  ..., 0., 0., 0.],\n",
      "        [0., 0., 0.,  ..., 0., 0., 0.],\n",
      "        [0., 0., 0.,  ..., 0., 0., 0.]], requires_grad=True)\n",
      "Softmax(dim=None)\n",
      "Sequential(\n",
      "  (0): Flatten(start_dim=1, end_dim=-1)\n",
      "  (1): Linear(in_features=784, out_features=300, bias=True)\n",
      "  (2): Sigmoid()\n",
      "  (3): Linear(in_features=300, out_features=200, bias=True)\n",
      "  (4): Sigmoid()\n",
      "  (5): Linear(in_features=200, out_features=10, bias=True)\n",
      "  (6): Softmax(dim=None)\n",
      ")\n"
     ]
    },
    {
     "name": "stderr",
     "output_type": "stream",
     "text": [
      "C:\\Users\\ECLEO\\AppData\\Local\\Programs\\Python\\Python310\\lib\\site-packages\\torch\\nn\\modules\\container.py:139: UserWarning: Implicit dimension choice for softmax has been deprecated. Change the call to include dim=X as an argument.\n",
      "  input = module(input)\n"
     ]
    },
    {
     "name": "stdout",
     "output_type": "stream",
     "text": [
      "Train Epoch: 0 Accuracy 6742/60000(11.24%) Loss: 1.152\n",
      "Train Epoch: 1 Accuracy 6742/60000(11.24%) Loss: 1.151\n",
      "Train Epoch: 2 Accuracy 6742/60000(11.24%) Loss: 1.151\n",
      "Train Epoch: 3 Accuracy 6742/60000(11.24%) Loss: 1.151\n",
      "Train Epoch: 4 Accuracy 6742/60000(11.24%) Loss: 1.151\n",
      "Train Epoch: 5 Accuracy 6742/60000(11.24%) Loss: 1.151\n",
      "Train Epoch: 6 Accuracy 6742/60000(11.24%) Loss: 1.151\n",
      "Train Epoch: 7 Accuracy 6742/60000(11.24%) Loss: 1.151\n",
      "Train Epoch: 8 Accuracy 6742/60000(11.24%) Loss: 1.151\n",
      "Train Epoch: 9 Accuracy 6742/60000(11.24%) Loss: 1.151\n",
      "Train Epoch: 10 Accuracy 6742/60000(11.24%) Loss: 1.151\n",
      "Train Epoch: 11 Accuracy 6742/60000(11.24%) Loss: 1.151\n",
      "Train Epoch: 12 Accuracy 6742/60000(11.24%) Loss: 1.151\n",
      "Train Epoch: 13 Accuracy 6742/60000(11.24%) Loss: 1.151\n",
      "Train Epoch: 14 Accuracy 6742/60000(11.24%) Loss: 1.151\n",
      "Train Epoch: 15 Accuracy 6742/60000(11.24%) Loss: 1.151\n",
      "Train Epoch: 16 Accuracy 6742/60000(11.24%) Loss: 1.151\n",
      "Train Epoch: 17 Accuracy 6742/60000(11.24%) Loss: 1.151\n",
      "Train Epoch: 18 Accuracy 6742/60000(11.24%) Loss: 1.151\n",
      "Train Epoch: 19 Accuracy 6742/60000(11.24%) Loss: 1.151\n",
      "Train Epoch: 20 Accuracy 6742/60000(11.24%) Loss: 1.151\n",
      "Train Epoch: 21 Accuracy 6742/60000(11.24%) Loss: 1.151\n",
      "Train Epoch: 22 Accuracy 6742/60000(11.24%) Loss: 1.151\n",
      "Train Epoch: 23 Accuracy 6742/60000(11.24%) Loss: 1.151\n",
      "Train Epoch: 24 Accuracy 6742/60000(11.24%) Loss: 1.151\n"
     ]
    }
   ],
   "source": [
    "def init_weights(m):\n",
    "    print(m)\n",
    "    if type(m) == nn.Linear:\n",
    "        m.weight.data.fill_(0)\n",
    "        print(m.weight)\n",
    "\n",
    "model = build_model(300,200)\n",
    "model.apply(init_weights)\n",
    "loader = get_data_loader()\n",
    "learning_stats = train_model(model, loader, 25)"
   ]
  },
  {
   "cell_type": "code",
   "execution_count": 319,
   "id": "6d6c6396",
   "metadata": {},
   "outputs": [
    {
     "name": "stdout",
     "output_type": "stream",
     "text": [
      "Train Epoch: 0 Accuracy 6742/60000(11.24%) Loss: 1.151\n",
      "Train Epoch: 1 Accuracy 6742/60000(11.24%) Loss: 1.151\n",
      "Train Epoch: 2 Accuracy 6742/60000(11.24%) Loss: 1.150\n",
      "Train Epoch: 3 Accuracy 6742/60000(11.24%) Loss: 1.149\n",
      "Train Epoch: 4 Accuracy 6742/60000(11.24%) Loss: 1.148\n",
      "Train Epoch: 5 Accuracy 7225/60000(12.04%) Loss: 1.147\n",
      "Train Epoch: 6 Accuracy 11932/60000(19.89%) Loss: 1.143\n",
      "Train Epoch: 7 Accuracy 12594/60000(20.99%) Loss: 1.135\n",
      "Train Epoch: 8 Accuracy 12612/60000(21.02%) Loss: 1.121\n",
      "Train Epoch: 9 Accuracy 13366/60000(22.28%) Loss: 1.108\n",
      "Train Epoch: 10 Accuracy 16106/60000(26.84%) Loss: 1.098\n",
      "Train Epoch: 11 Accuracy 17088/60000(28.48%) Loss: 1.089\n",
      "Train Epoch: 12 Accuracy 17620/60000(29.37%) Loss: 1.081\n",
      "Train Epoch: 13 Accuracy 20690/60000(34.48%) Loss: 1.073\n",
      "Train Epoch: 14 Accuracy 22558/60000(37.60%) Loss: 1.064\n",
      "Train Epoch: 15 Accuracy 23294/60000(38.82%) Loss: 1.053\n",
      "Train Epoch: 16 Accuracy 24162/60000(40.27%) Loss: 1.042\n",
      "Train Epoch: 17 Accuracy 27528/60000(45.88%) Loss: 1.031\n",
      "Train Epoch: 18 Accuracy 28660/60000(47.77%) Loss: 1.020\n",
      "Train Epoch: 19 Accuracy 29055/60000(48.42%) Loss: 1.008\n"
     ]
    }
   ],
   "source": [
    "model = build_model(300,200)\n",
    "loader = get_data_loader()\n",
    "learning_stats = train_model(model, loader, 20)"
   ]
  },
  {
   "cell_type": "code",
   "execution_count": 322,
   "id": "d90bf4cc",
   "metadata": {},
   "outputs": [
    {
     "data": {
      "image/png": "[encoded data removed]",
      "text/plain": [
       "<Figure size 720x576 with 1 Axes>"
      ]
     },
     "metadata": {
      "needs_background": "light"
     },
     "output_type": "display_data"
    }
   ],
   "source": [
    "plt.rcParams[\"font.size\"] = 15\n",
    "plt.figure(figsize=(10,8))\n",
    "plt.plot(np.cumsum(learning_stats[0]), learning_stats[2], label=\"random weights\")\n",
    "plt.plot(np.cumsum(learning_stats[0:20]), [1.151 for i in range(60)], label=\"all 0 weight\")\n",
    "plt.grid()\n",
    "plt.legend()\n",
    "plt.ylabel(\"loss\")\n",
    "plt.xlabel(\"batches\")\n",
    "plt.savefig(\"learning_curve2.png\")\n",
    "plt.tight_layout()\n",
    "None"
   ]
  },
  {
   "cell_type": "code",
   "execution_count": null,
   "id": "f2af4b68",
   "metadata": {},
   "outputs": [],
   "source": [
    "loader = get_data_loader(training=False)\n",
    "evaluate_model(model, loader)"
   ]
  }
 ],
 "metadata": {
  "kernelspec": {
   "display_name": "Python 3 (ipykernel)",
   "language": "python",
   "name": "python3"
  },
  "language_info": {
   "codemirror_mode": {
    "name": "ipython",
    "version": 3
   },
   "file_extension": ".py",
   "mimetype": "text/x-python",
   "name": "python",
   "nbconvert_exporter": "python",
   "pygments_lexer": "ipython3",
   "version": "3.10.7"
  }
 },
 "nbformat": 4,
 "nbformat_minor": 5
}
